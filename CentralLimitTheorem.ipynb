{
 "cells": [
  {
   "cell_type": "code",
   "execution_count": 1,
   "metadata": {
    "collapsed": false
   },
   "outputs": [],
   "source": [
    "%matplotlib inline\n",
    "import matplotlib.pyplot as plt\n",
    "import matplotlib.mlab as mlab\n",
    "#plt.style.use('dark_background') # Uncomment for dark themes\n",
    "import numpy as np\n",
    "\n",
    "from ipywidgets import widgets  \n",
    "\n",
    "import numpy.random as random"
   ]
  },
  {
   "cell_type": "code",
   "execution_count": 2,
   "metadata": {
    "collapsed": false
   },
   "outputs": [],
   "source": [
    "def centralLimit(numVariables, numSamples, distribution, plotNorm):\n",
    "    random.seed(23)\n",
    "    samples = []\n",
    "    for sample in range(numSamples):\n",
    "        sampleValue = 0.0\n",
    "        for variable in range(numVariables):\n",
    "            if(distribution == \"uniform\"):\n",
    "                randomValue = np.random.uniform()\n",
    "                \n",
    "            if(distribution == \"exponential\"):\n",
    "                randomValue = np.random.exponential()\n",
    "            \n",
    "            if(distribution == \"binomial\"):\n",
    "                randomValue = np.random.binomial(1, 0.4)\n",
    "                \n",
    "            sampleValue += randomValue\n",
    "        samples.append(sampleValue / numVariables)\n",
    "    fig = plt.figure(figsize=(10,5))\n",
    "    fig.patch.set_alpha(0.0)\n",
    "    plt.gca().patch.set_alpha(0.0)\n",
    "    n, bins, patches = plt.hist(samples, 50, normed=True, color='darkgrey')\n",
    "    if(plotNorm == True):\n",
    "        y = mlab.normpdf(bins, np.mean(samples), np.std(samples))\n",
    "        l = plt.plot(bins, y, 'r--', linewidth=3)\n",
    "    "
   ]
  },
  {
   "cell_type": "code",
   "execution_count": 3,
   "metadata": {
    "collapsed": false
   },
   "outputs": [
    {
     "data": {
      "image/png": "[encoded data removed]",
      "text/plain": [
       "<matplotlib.figure.Figure at 0x7fb53ceb66d8>"
      ]
     },
     "metadata": {},
     "output_type": "display_data"
    }
   ],
   "source": [
    "widgets.interact(\n",
    "    centralLimit, \n",
    "    numVariables=(1,100,1), \n",
    "    numSamples=(1, 20000, 100), \n",
    "    distribution=(\"uniform\", \"exponential\", \"binomial\"),\n",
    "    plotNorm=False\n",
    ")"
   ]
  },
  {
   "cell_type": "code",
   "execution_count": null,
   "metadata": {
    "collapsed": true
   },
   "outputs": [],
   "source": []
  },
  {
   "cell_type": "code",
   "execution_count": null,
   "metadata": {
    "collapsed": true
   },
   "outputs": [],
   "source": []
  },
  {
   "cell_type": "code",
   "execution_count": null,
   "metadata": {
    "collapsed": true
   },
   "outputs": [],
   "source": []
  }
 ],
 "metadata": {
  "kernelspec": {
   "display_name": "Python 3",
   "language": "python",
   "name": "python3"
  },
  "language_info": {
   "codemirror_mode": {
    "name": "ipython",
    "version": 3
   },
   "file_extension": ".py",
   "mimetype": "text/x-python",
   "name": "python",
   "nbconvert_exporter": "python",
   "pygments_lexer": "ipython3",
   "version": "3.5.1"
  }
 },
 "nbformat": 4,
 "nbformat_minor": 0
}
